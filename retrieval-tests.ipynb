{
 "cells": [
  {
   "cell_type": "code",
   "execution_count": 1,
   "metadata": {},
   "outputs": [
    {
     "name": "stderr",
     "output_type": "stream",
     "text": [
      "/Users/amarkanaka/miniconda3/envs/faiss_1.8.0_new_env/lib/python3.10/site-packages/tqdm/auto.py:21: TqdmWarning: IProgress not found. Please update jupyter and ipywidgets. See https://ipywidgets.readthedocs.io/en/stable/user_install.html\n",
      "  from .autonotebook import tqdm as notebook_tqdm\n"
     ]
    }
   ],
   "source": [
    "import os\n",
    "\n",
    "import json\n",
    "import numpy as np\n",
    "\n",
    "\n",
    "from langchain_community.vectorstores import FAISS\n",
    "import faiss\n",
    "import torch\n",
    "# from tqdm import tqdm\n",
    "from transformers import AutoTokenizer, AutoModel\n",
    "from langchain_core.prompts import ChatPromptTemplate, FewShotChatMessagePromptTemplate\n",
    "\n",
    "# from abc import abstractmethod\n",
    "# import concurrent.futures\n",
    "# from concurrent.futures import ThreadPoolExecutor\n",
    "\n",
    "from langchain_openai import ChatOpenAI, OpenAIEmbeddings\n",
    "from dotenv import load_dotenv\n",
    "from langchain_core.documents import Document\n",
    "from typing_extensions import List, TypedDict\n",
    "\n",
    "from sentence_transformers import SentenceTransformer\n"
   ]
  },
  {
   "cell_type": "code",
   "execution_count": null,
   "metadata": {},
   "outputs": [],
   "source": [
    "dataset = 'musique'\n",
    "model_label = 'SBERT'\n",
    "unit = 'hippo'\n",
    "\n",
    "vector_path = f'data/{dataset}/{dataset}_{model_label}_{unit}_vectors_norm.npy'\n",
    "index_path = f'data/{dataset}/{dataset}_{model_label}_{unit}_ip_norm.index'\n",
    "\n",
    "#check if index has been built, otherwise build it using Sentence BERT\n",
    "if(os.path.isfile(index_path)):\n",
    "    if dataset == 'musique':\n",
    "        faiss_index = faiss.read_index('data/musique/musique_facebook_contriever_proposition_ip_norm.index')\n",
    "    else:\n",
    "        faiss_index = faiss.read_index('data/2wikimultihopqa/2wikimultihopqa_facebook_contriever_proposition_ip_norm.index')\n",
    "else:\n",
    "    corpus_contents = []\n",
    "    if dataset == 'musique':\n",
    "        corpus = json.load(open('data/musique_corpus.json', 'r'))\n",
    "    elif dataset == '2wikimultihopqa':\n",
    "        corpus = json.load(open('data/2wikimultihopqa_corpus.json', 'r'))\n",
    "    for item in corpus:\n",
    "        corpus_contents.append(item['title'] + '\\n' + item['text'])\n",
    "    model = SentenceTransformer('bert-base-nli-mean-tokens')\n",
    "    sentence_embeddings = model.encode(corpus_contents)\n",
    "    sentence_embeddings.shape\n",
    "\n",
    "\n"
   ]
  }
 ],
 "metadata": {
  "kernelspec": {
   "display_name": "faiss_1.8.0_new_env",
   "language": "python",
   "name": "python3"
  },
  "language_info": {
   "codemirror_mode": {
    "name": "ipython",
    "version": 3
   },
   "file_extension": ".py",
   "mimetype": "text/x-python",
   "name": "python",
   "nbconvert_exporter": "python",
   "pygments_lexer": "ipython3",
   "version": "3.10.13"
  }
 },
 "nbformat": 4,
 "nbformat_minor": 2
}
