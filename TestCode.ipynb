{
 "cells": [
  {
   "cell_type": "code",
   "execution_count": 1,
   "metadata": {},
   "outputs": [],
   "source": [
    "#import .env variables\n",
    "from dotenv import load_dotenv\n",
    "from pathlib import Path\n",
    "import os\n",
    "\n",
    "dotenv_path = Path('.venv/pyvenv.cfg')\n",
    "load_dotenv(dotenv_path=dotenv_path)\n",
    "os.environ[\"LANGCHAIN_TRACING_V2\"] = os.getenv('LANGCHAIN_TRACING_V2')\n",
    "os.environ[\"LANGCHAIN_API_KEY\"] = os.getenv('LANGCHAIN_API_KEY')\n",
    "\n"
   ]
  },
  {
   "cell_type": "code",
   "execution_count": 2,
   "metadata": {},
   "outputs": [
    {
     "name": "stderr",
     "output_type": "stream",
     "text": [
      "/Users/amarkanaka/repos/RAG/.venv/lib/python3.9/site-packages/urllib3/__init__.py:35: NotOpenSSLWarning: urllib3 v2 only supports OpenSSL 1.1.1+, currently the 'ssl' module is compiled with 'LibreSSL 2.8.3'. See: https://github.com/urllib3/urllib3/issues/3020\n",
      "  warnings.warn(\n",
      "/Users/amarkanaka/repos/RAG/.venv/lib/python3.9/site-packages/tqdm/auto.py:21: TqdmWarning: IProgress not found. Please update jupyter and ipywidgets. See https://ipywidgets.readthedocs.io/en/stable/user_install.html\n",
      "  from .autonotebook import tqdm as notebook_tqdm\n"
     ]
    }
   ],
   "source": [
    "import pandas as pd\n",
    "#load multihoprag benchmark dataset containing questions spanning multiple text corpus's\n",
    "df_questions = pd.read_json(\"hf://datasets/yixuantt/MultiHopRAG/MultiHopRAG.json\")\n",
    "#load text corpus's\n",
    "df_texts = pd.read_json(\"hf://datasets/yixuantt/MultiHopRAG/corpus.json\")"
   ]
  },
  {
   "cell_type": "code",
   "execution_count": null,
   "metadata": {},
   "outputs": [],
   "source": [
    "df_questions.head()"
   ]
  },
  {
   "cell_type": "code",
   "execution_count": 9,
   "metadata": {},
   "outputs": [
    {
     "data": {
      "text/html": [
       "<div>\n",
       "<style scoped>\n",
       "    .dataframe tbody tr th:only-of-type {\n",
       "        vertical-align: middle;\n",
       "    }\n",
       "\n",
       "    .dataframe tbody tr th {\n",
       "        vertical-align: top;\n",
       "    }\n",
       "\n",
       "    .dataframe thead th {\n",
       "        text-align: right;\n",
       "    }\n",
       "</style>\n",
       "<table border=\"1\" class=\"dataframe\">\n",
       "  <thead>\n",
       "    <tr style=\"text-align: right;\">\n",
       "      <th></th>\n",
       "      <th>title</th>\n",
       "      <th>author</th>\n",
       "      <th>source</th>\n",
       "      <th>published_at</th>\n",
       "      <th>category</th>\n",
       "      <th>url</th>\n",
       "      <th>body</th>\n",
       "    </tr>\n",
       "  </thead>\n",
       "  <tbody>\n",
       "    <tr>\n",
       "      <th>0</th>\n",
       "      <td>200+ of the best deals from Amazon's Cyber Mon...</td>\n",
       "      <td>None</td>\n",
       "      <td>Mashable</td>\n",
       "      <td>2023-11-27 08:45:59+00:00</td>\n",
       "      <td>entertainment</td>\n",
       "      <td>https://mashable.com/article/cyber-monday-deal...</td>\n",
       "      <td>Table of Contents Table of Contents Echo, Fire...</td>\n",
       "    </tr>\n",
       "    <tr>\n",
       "      <th>1</th>\n",
       "      <td>ASX set to drop as Wall Street’s September slu...</td>\n",
       "      <td>Stan Choe</td>\n",
       "      <td>The Sydney Morning Herald</td>\n",
       "      <td>2023-09-26 19:11:30+00:00</td>\n",
       "      <td>business</td>\n",
       "      <td>https://www.smh.com.au/business/markets/asx-se...</td>\n",
       "      <td>ETF provider Betashares, which manages $30 bil...</td>\n",
       "    </tr>\n",
       "    <tr>\n",
       "      <th>2</th>\n",
       "      <td>Amazon sellers sound off on the FTC's 'long-ov...</td>\n",
       "      <td>None</td>\n",
       "      <td>Cnbc | World Business News Leader</td>\n",
       "      <td>2023-10-06 21:31:00+00:00</td>\n",
       "      <td>business</td>\n",
       "      <td>https://www.cnbc.com/2023/10/06/amazon-sellers...</td>\n",
       "      <td>A worker sorts out parcels in the outbound doc...</td>\n",
       "    </tr>\n",
       "    <tr>\n",
       "      <th>3</th>\n",
       "      <td>Christmas Day preview: 49ers, Ravens square of...</td>\n",
       "      <td>Colum Dell, Yardbarker</td>\n",
       "      <td>Yardbarker</td>\n",
       "      <td>2023-12-24 23:34:39+00:00</td>\n",
       "      <td>sports</td>\n",
       "      <td>https://www.yardbarker.com/nfl/articles/christ...</td>\n",
       "      <td>Christmas Day isn't just for the NBA, as the N...</td>\n",
       "    </tr>\n",
       "    <tr>\n",
       "      <th>4</th>\n",
       "      <td>Raiders vs. Lions live score, updates, highlig...</td>\n",
       "      <td>Dan Treacy</td>\n",
       "      <td>Sporting News</td>\n",
       "      <td>2023-10-30 22:20:03+00:00</td>\n",
       "      <td>sports</td>\n",
       "      <td>https://www.sportingnews.com/us/nfl/news/raide...</td>\n",
       "      <td>The Lions just needed to get themselves back i...</td>\n",
       "    </tr>\n",
       "  </tbody>\n",
       "</table>\n",
       "</div>"
      ],
      "text/plain": [
       "                                               title                  author  \\\n",
       "0  200+ of the best deals from Amazon's Cyber Mon...                    None   \n",
       "1  ASX set to drop as Wall Street’s September slu...               Stan Choe   \n",
       "2  Amazon sellers sound off on the FTC's 'long-ov...                    None   \n",
       "3  Christmas Day preview: 49ers, Ravens square of...  Colum Dell, Yardbarker   \n",
       "4  Raiders vs. Lions live score, updates, highlig...              Dan Treacy   \n",
       "\n",
       "                              source              published_at       category  \\\n",
       "0                           Mashable 2023-11-27 08:45:59+00:00  entertainment   \n",
       "1          The Sydney Morning Herald 2023-09-26 19:11:30+00:00       business   \n",
       "2  Cnbc | World Business News Leader 2023-10-06 21:31:00+00:00       business   \n",
       "3                         Yardbarker 2023-12-24 23:34:39+00:00         sports   \n",
       "4                      Sporting News 2023-10-30 22:20:03+00:00         sports   \n",
       "\n",
       "                                                 url  \\\n",
       "0  https://mashable.com/article/cyber-monday-deal...   \n",
       "1  https://www.smh.com.au/business/markets/asx-se...   \n",
       "2  https://www.cnbc.com/2023/10/06/amazon-sellers...   \n",
       "3  https://www.yardbarker.com/nfl/articles/christ...   \n",
       "4  https://www.sportingnews.com/us/nfl/news/raide...   \n",
       "\n",
       "                                                body  \n",
       "0  Table of Contents Table of Contents Echo, Fire...  \n",
       "1  ETF provider Betashares, which manages $30 bil...  \n",
       "2  A worker sorts out parcels in the outbound doc...  \n",
       "3  Christmas Day isn't just for the NBA, as the N...  \n",
       "4  The Lions just needed to get themselves back i...  "
      ]
     },
     "execution_count": 9,
     "metadata": {},
     "output_type": "execute_result"
    }
   ],
   "source": [
    "df_texts.head()"
   ]
  },
  {
   "cell_type": "code",
   "execution_count": 21,
   "metadata": {},
   "outputs": [],
   "source": [
    "df_texts[\"avg_length\"] = df_texts[\"body\"].str.len()\n"
   ]
  },
  {
   "cell_type": "code",
   "execution_count": 23,
   "metadata": {},
   "outputs": [
    {
     "data": {
      "text/plain": [
       "count      609.000000\n",
       "mean     10340.182266\n",
       "std       7809.231296\n",
       "min       4770.000000\n",
       "25%       6112.000000\n",
       "50%       7836.000000\n",
       "75%      11471.000000\n",
       "max      71034.000000\n",
       "Name: avg_length, dtype: float64"
      ]
     },
     "execution_count": 23,
     "metadata": {},
     "output_type": "execute_result"
    }
   ],
   "source": [
    "df_texts[\"avg_length\"].describe()"
   ]
  },
  {
   "cell_type": "code",
   "execution_count": 24,
   "metadata": {},
   "outputs": [
    {
     "data": {
      "text/plain": [
       "'Table of Contents Table of Contents Echo, Fire TV, and Kindle deals Apple deals TV deals Laptop deals Headphone and earbud deals Tablet deals Gaming deals Speaker deals Vacuum deals Kitchen deals Smart home deals Fitness deals Beauty tech deals Drone deals Camera deals Lego deals Gift card deals\\n\\nUPDATE: Nov. 27, 2023, 5:00 a.m. EST This post has been updated with all of the latest Cyber Monday deals available at Amazon.\\n\\nAmazon is dragging out the year\\'s biggest shopping holiday(s) into 11 days of deals.\\n\\nThe retail giant began its Black Friday sale in the early morning of Friday, Nov. 17 (a week ahead of schedule) and was on top of making the switch to Cyber Monday language in the wee hours of Saturday, Nov. 25. Official Cyber Monday mode, which is currently on through Monday, Nov. 27, includes both a ton of deals carried over from Black Friday plus some new ones.\\n\\nWe\\'re curating a running list of Amazon\\'s best Cyber Weekend deals, spotlighting some of our favorites and noting when good deals inevitably sell out. Read on for the full rundown, and check back often: We\\'re going to be updating this story incessantly as the sale continues, as well as our even bigger (if you can imagine) list of Cyber Monday deals across more retailers.\\n\\nNote: All newly added deals are marked with a ✨, while deals with a 🔥 have dropped to an all-time low price. Amazon\\'s invite-only deals for Prime members are marked with a 📨. Deals with a strikeout were either sold out or expired at the time of writing.\\n\\nEcho, Fire TV, and Kindle deals\\n\\nWhy we like it\\n\\nAn Echo Show is a subtle yet game-changing addition to any room — and for less than $40 with this rollover Black Friday to Cyber Monday deal, there\\'s little reason to not make your life easier. The smart screen responds to Alexa commands that are particularly handy when your hands are full, like asking for measurement conversions mid-cooking, checking the weather mid-rushing out the door, or turning off your smart lights with a sleeping kid in hand. Plus, it\\'s got a 5.5-inch screen and better sound than its predecessor, making it perfect for watching videos or video calling friends and family.\\n\\nMore Amazon device and service deals\\n\\nAmazon services\\n\\nAudible Premium Plus — $5.95/month $14.95/month for four months (save $9/month; new customers only; get an additional $20 Audible credit)\\n\\nEcho Buds\\n\\nEcho smart displays\\n\\nEcho smart speakers\\n\\nFire tablets\\n\\nFire TVs\\n\\nNote: All Fire TVs come with a free 6-month subscription to MGM+ (a $35.94 value).\\n\\nFire TV streaming devices\\n\\neero\\n\\nKindles\\n\\nMiscellaneous Amazon devices\\n\\nApple deals\\n\\nWhy we like it\\n\\nNow that the 64GB 9th generation iPad has been going in and out of stock (you might be able to find it on sale for $229.99), our new favorite iPad deal at Amazon is the 10th generation 64GB model for $349. Compared to the 9th gen, the 10th gen classic iPad has a slightly bigger screen that\\'s now also a Liquid Retina display (10.9 inches versus 10.2 inches), a faster A14 Bionic chip for smoother multitasking, and USB-C charging.\\n\\nMore Apple deals\\n\\nAirPods\\n\\nMacBook\\n\\nMac\\n\\niPad\\n\\nApple Watch\\n\\nTV deals\\n\\nWhy we like it\\n\\nThis 65-inch Fire TV from Amazon hit its lowest ever price this month, and we\\'re not mad about it. With a 66 percent five-star review rating, it\\'s got much to love: Including stunning 4K QLED resolution, adaptive brightness that adjusts to the lighting of your room, the ability to project famous art or personal pics on it when not streaming anything, and, of course, that quintessential Alexa voice control.\\n\\nMore TV deals\\n\\n43 to 55 inches\\n\\n65 inches\\n\\n75 to 85 inches\\n\\nLaptop deals\\n\\nWhy we like it\\n\\nMacBooks aside (which are all listed above in the Apple section), another stellar Cyber Monday laptop deal at Amazon is the lightweight Microsoft Surface Laptop Go 3 for $599.99. This 25% discount drops the 2023 version to the regular asking price of our favorite budget laptop, the older Surface Go 2. Compared to the Go 2, the Go 3\\'s Intel Core i5 processor is 12th gen versus the Go 2\\'s 11th gen, harnessing better speeds and solid power for most everyday work or school tasks. On the outside, the Go 3 is definitely giving MacBook Air — the main difference being that the Go 3\\'s screen is a touchscreen.\\n\\nMore laptop deals\\n\\nTraditional laptops\\n\\n2-in-1 laptops\\n\\nChromebooks\\n\\nGaming laptops\\n\\nHeadphone and earbud deals\\n\\nWhy we like it\\n\\nNarrowing down a headphones upgrade from so many on-sale options is less overwhelming when you\\'ve confirmed that you want to stick with a super premium, super reputable brand like Bose — but also that you want to stick to a budget. There\\'s only one pair of Bose over-ear headphones you can grab for just under $200, and that\\'s the QuietComfort 45s at a record-low price of $199. This classic pair secures top-of-the-line ANC, 20 hours of battery life, and all-day comfort for less than half of the AirPods Max\\'s sale price.\\n\\nMore headphone and earbud deals\\n\\nHeadphones\\n\\nEarbuds\\n\\nTablet deals\\n\\nGaming deals\\n\\nGaming headsets\\n\\nMashable Deals Want more hand-picked deals in your inbox? Sign up for Mashable\\'s daily Deals newsletter. Loading... Sign Me Up By signing up you agree to our Terms of Use and Privacy Policy Thanks for signing up!\\n\\nGaming mice\\n\\nGaming keyboards\\n\\nVR headsets\\n\\nMeta Quest 2 — $249 $299.99 (save $50.99) + free $50 Amazon credit with code META50 🔥\\n\\nSpeaker deals\\n\\nVacuum deals\\n\\nCordless vacuums\\n\\nRobot vacuums and vacuum/mop hybrids\\n\\nKitchen deals\\n\\nPizza ovens\\n\\nSparkling water makers\\n\\nToaster ovens\\n\\nSmart home deals\\n\\nNote: Echo devices are listed above under \"Amazon device and service deals.\"\\n\\nBlink\\n\\nChromecast\\n\\nGoogle Nest\\n\\nFitness deals\\n\\nSmartwatches and fitness trackers\\n\\nNote: Apple Watches are listed above under \"Apple deals.\"\\n\\nBeauty tech deals\\n\\nDrone deals\\n\\nCamera deals\\n\\nGoPro\\n\\nLego deals\\n\\nGift card deals'"
      ]
     },
     "execution_count": 24,
     "metadata": {},
     "output_type": "execute_result"
    }
   ],
   "source": [
    "df_texts[\"body\"][0]"
   ]
  },
  {
   "cell_type": "code",
   "execution_count": null,
   "metadata": {},
   "outputs": [],
   "source": []
  }
 ],
 "metadata": {
  "kernelspec": {
   "display_name": "Python 3",
   "language": "python",
   "name": "python3"
  },
  "language_info": {
   "codemirror_mode": {
    "name": "ipython",
    "version": 3
   },
   "file_extension": ".py",
   "mimetype": "text/x-python",
   "name": "python",
   "nbconvert_exporter": "python",
   "pygments_lexer": "ipython3",
   "version": "3.9.6"
  }
 },
 "nbformat": 4,
 "nbformat_minor": 2
}
