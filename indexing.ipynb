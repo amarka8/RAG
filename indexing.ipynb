{
 "cells": [
  {
   "cell_type": "code",
   "execution_count": 2,
   "metadata": {},
   "outputs": [
    {
     "name": "stderr",
     "output_type": "stream",
     "text": [
      "/Users/amarkanaka/miniconda3/envs/faiss_1.8.0_new_env/lib/python3.10/site-packages/tqdm/auto.py:21: TqdmWarning: IProgress not found. Please update jupyter and ipywidgets. See https://ipywidgets.readthedocs.io/en/stable/user_install.html\n",
      "  from .autonotebook import tqdm as notebook_tqdm\n"
     ]
    }
   ],
   "source": [
    "import os\n",
    "# import sys\n",
    "\n",
    "# from src.processing import mean_pooling, mean_pooling_embedding_with_normalization\n",
    "\n",
    "# sys.path.append('.')\n",
    "\n",
    "import argparse\n",
    "import json\n",
    "import numpy as np\n",
    "\n",
    "import faiss\n",
    "import torch\n",
    "# from tqdm import tqdm\n",
    "from transformers import AutoTokenizer, AutoModel"
   ]
  },
  {
   "cell_type": "code",
   "execution_count": 3,
   "metadata": {},
   "outputs": [],
   "source": [
    "# Embeddings Model is a mapping from chunks of max length 512 tokens -> R^768 ???\n",
    "dim = 768\n",
    "#normalize embeddings\n",
    "norm = True\n",
    "dataset = 'musique'\n",
    "# unit = 'proposition'"
   ]
  },
  {
   "cell_type": "code",
   "execution_count": 4,
   "metadata": {},
   "outputs": [],
   "source": [
    "model_label = 'facebook_contriever'"
   ]
  },
  {
   "cell_type": "code",
   "execution_count": 5,
   "metadata": {},
   "outputs": [],
   "source": [
    "vector_path = f'data/{dataset}/{dataset}_{model_label}_proposition_vectors_norm.npy'\n",
    "index_path = f'data/{dataset}/{dataset}_{model_label}_proposition_ip_norm.index'\n",
    "if(os.path.isfile(vector_path)):\n",
    "    vectors = np.load(vector_path)"
   ]
  },
  {
   "cell_type": "code",
   "execution_count": 6,
   "metadata": {},
   "outputs": [
    {
     "data": {
      "text/plain": [
       "'data/musique/musique_facebook_contriever_proposition_vectors_norm.npy'"
      ]
     },
     "execution_count": 6,
     "metadata": {},
     "output_type": "execute_result"
    }
   ],
   "source": [
    "vector_path"
   ]
  },
  {
   "cell_type": "code",
   "execution_count": 7,
   "metadata": {},
   "outputs": [
    {
     "name": "stdout",
     "output_type": "stream",
     "text": [
      "corpus size: 11656\n"
     ]
    }
   ],
   "source": [
    "if dataset == 'musique':\n",
    "    corpus = json.load(open('data/musique_proposition_corpus.json', 'r'))\n",
    "elif dataset == '2wikimultihopqa':\n",
    "    corpus = json.load(open('data/2wikimultihopqa_proposition_corpus.json', 'r'))\n",
    "corpus_contents = []\n",
    "for item in corpus:\n",
    "    corpus_contents.append(item['title'] + '\\n' + item['propositions'])\n",
    "print('corpus size: {}'.format(len(corpus_contents)))"
   ]
  },
  {
   "cell_type": "code",
   "execution_count": 8,
   "metadata": {},
   "outputs": [
    {
     "name": "stdout",
     "output_type": "stream",
     "text": [
      "525.25\n",
      "31.25\n",
      "149.56335792724778\n"
     ]
    }
   ],
   "source": [
    "total_len = 0\n",
    "max_len = 0\n",
    "min_len = 1000000\n",
    "for line in corpus_contents:\n",
    "    total_len += len(line)\n",
    "    if len(line) > max_len:\n",
    "        max_len = len(line)\n",
    "    if len(line) < min_len:\n",
    "        min_len = len(line)\n",
    "print(max_len / 4)\n",
    "print(min_len / 4)\n",
    "print((total_len / len(corpus_contents)) / 4)    "
   ]
  },
  {
   "cell_type": "code",
   "execution_count": null,
   "metadata": {},
   "outputs": [],
   "source": [
    "#create sentence-level embeddings using mean-pooling and normalize to prepare for cosine similarity indexing\n",
    "#note: UPDATE TO USE distributedDataParallel\n",
    "def mean_pooling(tokenEmbeddings, paddingInfo):\n",
    "    tokenEmbeddingsNoPad = tokenEmbeddings.masked_fill(~paddingInfo[...,None].bool(), 0)\n",
    "    sentenceEmbeddings = tokenEmbeddingsNoPad.sum(dim = 1) / paddingInfo.sum(dim = 1)[...,None]\n",
    "    return sentenceEmbeddings\n",
    "\n",
    "def mean_pooling_embedding_with_normalization(batch_str, tokenizer, model, mps_device):\n",
    "    chunks = tokenizer(batch_str, padding=True, truncation=True, return_tensors='pt').to(mps_device)\n",
    "    embeddings_metadata = model(**chunks)\n",
    "    sentenceEmbeddings = mean_pooling(embeddings_metadata[0], embeddings_metadata['attention_mask'])\n",
    "    sentenceEmbeddingsNorm = sentenceEmbeddings.divide(torch.linalg.norm(sentenceEmbeddings,dim = 1)[...,None])\n",
    "    return sentenceEmbeddingsNorm"
   ]
  },
  {
   "cell_type": "code",
   "execution_count": 14,
   "metadata": {},
   "outputs": [],
   "source": [
    "if os.path.isfile(vector_path):\n",
    "    print('Loading existing vectors:', vector_path)\n",
    "    vectors = np.load(vector_path)\n",
    "    print('Vectors loaded:', len(vectors))\n",
    "else:\n",
    "    # load model\n",
    "    tokenizer = AutoTokenizer.from_pretrained('facebook/contriever')\n",
    "    model = AutoModel.from_pretrained('facebook/contriever')\n",
    "    # Check if multiple GPUs are available and if so, use them all\n",
    "    if not torch.backends.mps.is_available():\n",
    "        if not torch.backends.mps.is_built():\n",
    "            print(\"MPS not available because the current PyTorch install was not \"\n",
    "                \"built with MPS enabled.\")\n",
    "        else:\n",
    "            print(\"MPS not available because the current MacOS version is not 12.3+ \"\n",
    "                \"and/or you do not have an MPS-enabled device on this machine.\")\n",
    "    else:\n",
    "        # print(\"device available\")\n",
    "        mps_device = torch.device(\"mps\")    \n",
    "        model.to(mps_device)\n",
    "        model = torch.nn.DataParallel(model)\n",
    "    #test batch size = 16 and batch size = 32 \n",
    "    batch_size = 16\n",
    "    vectors = np.zeros((len(corpus_contents), dim))\n",
    "    #get batch_size number of entries from corpus_contents, tokenize and embed them in 768 dimensional space\n",
    "    for idx in range(0, len(corpus_contents), batch_size):\n",
    "        end_idx = min(idx + batch_size, len(corpus_contents))\n",
    "        seqs = corpus_contents[idx:end_idx]\n",
    "        try:\n",
    "            batch_embeddings = mean_pooling_embedding_with_normalization(seqs, tokenizer, model, mps_device)\n",
    "        except Exception as e:\n",
    "            batch_embeddings = torch.zeros((len(seqs), dim))\n",
    "            print(f'Error at {idx}:', e)\n",
    "        #what happens if I don't use detach?\n",
    "        vectors[idx:end_idx] = batch_embeddings.to('cpu').numpy()\n",
    "    print(\"Type of vectors is {}\".format(type(vectors)))\n",
    "    np.save(vector_path, vectors)\n",
    "    print('vectors saved to {}'.format(vector_path))\n",
    "\n",
    "    #using FAISS on CPU (GPU support unavailable for mac)\n",
    "    if os.path.isfile(index_path):\n",
    "            print('index file already exists:', index_path)\n",
    "            print('index size: {}'.format(faiss.read_index(index_path).ntotal))\n",
    "    else:\n",
    "        print('Building index...')\n",
    "        index = faiss.IndexFlatIP(dim)\n",
    "        vectors = vectors.astype('float32')\n",
    "        index.add(vectors)\n",
    "\n",
    "        # save faiss index to file\n",
    "        faiss.write_index(index, index_path)\n",
    "        print('index saved to {}'.format(index_path))\n",
    "        print('index size: {}'.format(index.ntotal))"
   ]
  }
 ],
 "metadata": {
  "kernelspec": {
   "display_name": "faiss_1.8.0_new_env",
   "language": "python",
   "name": "python3"
  },
  "language_info": {
   "codemirror_mode": {
    "name": "ipython",
    "version": 3
   },
   "file_extension": ".py",
   "mimetype": "text/x-python",
   "name": "python",
   "nbconvert_exporter": "python",
   "pygments_lexer": "ipython3",
   "version": "3.10.15"
  }
 },
 "nbformat": 4,
 "nbformat_minor": 2
}
