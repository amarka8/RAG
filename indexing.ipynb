{
 "cells": [
  {
   "cell_type": "code",
   "execution_count": 20,
   "metadata": {},
   "outputs": [],
   "source": [
    "import os\n",
    "# import sys\n",
    "\n",
    "# from src.processing import mean_pooling, mean_pooling_embedding_with_normalization\n",
    "\n",
    "# sys.path.append('.')\n",
    "\n",
    "import argparse\n",
    "import json\n",
    "import numpy as np\n",
    "\n",
    "import faiss\n",
    "import torch\n",
    "# from tqdm import tqdm\n",
    "from transformers import AutoTokenizer, AutoModel"
   ]
  },
  {
   "cell_type": "code",
   "execution_count": 22,
   "metadata": {},
   "outputs": [],
   "source": [
    "# Embeddings Model is a mapping from chunks of max length 512 tokens -> R^768 ???\n",
    "dim = 768\n",
    "#normalize embeddings\n",
    "norm = True\n",
    "dataset = 'musique'\n",
    "# unit = 'proposition'"
   ]
  },
  {
   "cell_type": "code",
   "execution_count": 23,
   "metadata": {},
   "outputs": [],
   "source": [
    "model_label = 'facebook_contriever'"
   ]
  },
  {
   "cell_type": "code",
   "execution_count": 8,
   "metadata": {},
   "outputs": [],
   "source": [
    "vector_path = f'data/{dataset}/{dataset}_{model_label}_proposition_vectors_norm.npy'\n",
    "index_path = f'data/{dataset}/{dataset}_{model_label}_proposition_ip_norm.index'\n",
    "if(os.path.isfile(vector_path)):\n",
    "    vectors = np.load(vector_path)\n"
   ]
  },
  {
   "cell_type": "code",
   "execution_count": 24,
   "metadata": {},
   "outputs": [
    {
     "data": {
      "text/plain": [
       "'data/musique/musique_facebook_contriever_proposition_vectors_norm.npy'"
      ]
     },
     "execution_count": 24,
     "metadata": {},
     "output_type": "execute_result"
    }
   ],
   "source": [
    "vector_path"
   ]
  },
  {
   "cell_type": "code",
   "execution_count": 25,
   "metadata": {},
   "outputs": [
    {
     "name": "stdout",
     "output_type": "stream",
     "text": [
      "corpus size: 11656\n"
     ]
    }
   ],
   "source": [
    "if dataset == 'musique':\n",
    "    corpus = json.load(open('data/musique_proposition_corpus.json', 'r'))\n",
    "elif dataset == '2wikimultihopqa':\n",
    "    corpus = json.load(open('data/2wikimultihopqa_proposition_corpus.json', 'r'))\n",
    "corpus_contents = []\n",
    "for item in corpus:\n",
    "    corpus_contents.append(item['title'] + '\\n' + item['propositions'])\n",
    "print('corpus size: {}'.format(len(corpus_contents)))"
   ]
  },
  {
   "cell_type": "code",
   "execution_count": 26,
   "metadata": {},
   "outputs": [
    {
     "name": "stdout",
     "output_type": "stream",
     "text": [
      "525.25\n",
      "31.25\n",
      "149.56335792724778\n"
     ]
    }
   ],
   "source": [
    "total_len = 0\n",
    "max_len = 0\n",
    "min_len = 1000000\n",
    "for line in corpus_contents:\n",
    "    total_len += len(line)\n",
    "    if len(line) > max_len:\n",
    "        max_len = len(line)\n",
    "    if len(line) < min_len:\n",
    "        min_len = len(line)\n",
    "print(max_len / 4)\n",
    "print(min_len / 4)\n",
    "print((total_len / len(corpus_contents)) / 4)    "
   ]
  },
  {
   "cell_type": "code",
   "execution_count": 31,
   "metadata": {},
   "outputs": [],
   "source": [
    "if os.path.isfile(vector_path):\n",
    "    print('Loading existing vectors:', vector_path)\n",
    "    vectors = np.load(vector_path)\n",
    "    print('Vectors loaded:', len(vectors))\n",
    "else:\n",
    "    # load model\n",
    "    tokenizer = AutoTokenizer.from_pretrained('facebook/contriever')\n",
    "    model = AutoModel.from_pretrained('facebook/contriever')\n",
    "    # Check if multiple GPUs are available and if so, use them all\n",
    "    if not torch.backends.mps.is_available():\n",
    "        if not torch.backends.mps.is_built():\n",
    "            print(\"MPS not available because the current PyTorch install was not \"\n",
    "                \"built with MPS enabled.\")\n",
    "        else:\n",
    "            print(\"MPS not available because the current MacOS version is not 12.3+ \"\n",
    "                \"and/or you do not have an MPS-enabled device on this machine.\")\n",
    "    else:\n",
    "        # print(\"device available\")\n",
    "        mps_device = torch.device(\"mps\")    \n",
    "        model.to(mps_device)\n",
    "        model = torch.nn.DataParallel(model)\n",
    "\n",
    "\n"
   ]
  },
  {
   "cell_type": "code",
   "execution_count": 37,
   "metadata": {},
   "outputs": [
    {
     "data": {
      "text/plain": [
       "[\"Lionel Messi\\nLionel Messi spent a year at Barcelona's youth academy, La Masia. Messi was enrolled in the Royal Spanish Football Federation (RFEF) in February 2002. Messi played in all competitions. Messi befriended his teammates, Cesc Fàbregas and Gerard Piqué. Cesc Fàbregas and Gerard Piqué were among Lionel Messi's teammates. Messi completed his growth hormone treatment aged 14. Messi became an integral part of the Baby Dream Team, Barcelona's greatest-ever youth side. During his first full season (2002-03), Messi was top scorer with 36 goals in 30 games for the Cadetes A. The Cadetes A won an unprecedented treble of the league and both the Spanish and Catalan cups. The Copa Catalunya final was a 4-1 victory over Espanyol. The Copa Catalunya final became known in club lore as the partido de la máscara, the final of the mask. Messi suffered a broken cheekbone during a league match. Messi was allowed to start the game on the condition that he wear a plastic protector. Messi was hindered by the plastic protector. Messi took off the plastic protector and scored two goals in 10 minutes before his substitution. At the close of the season, Messi received an offer to join Arsenal. Messi's first offer to join Arsenal was from a foreign club. Cesc Fàbregas and Gerard Piqué left for England. Messi chose to remain in Barcelona.\",\n",
       " \"FC Barcelona\\nFC Barcelona was the favourites and started strongly. Barcelona finished the 2006-07 season without trophies. A pre-season US tour was blamed for a string of injuries to key players. Leading scorer Eto'o was injured during the US tour. Rising star Lionel Messi was injured during the US tour. There was open feuding between Eto'o and coach Frank Rijkaard and Ronaldinho. Ronaldinho admitted that a lack of fitness affected his form. In La Liga, Barcelona were in first place for much of the season. Inconsistency in the New Year saw Real Madrid overtake Barcelona to become champions. Barcelona advanced to the semi-finals of the Copa del Rey. Barcelona won the first leg against Getafe 5-2. A goal from Messi brought comparison to Diego Maradona's goal of the century. Barcelona lost the second leg 4-1. Barcelona took part in the 2006 FIFA Club World Cup. Barcelona was beaten by a late goal in the final against Brazilian side Internacional. In the Champions League, Barcelona were knocked out of the competition in the last 16 by eventual runners-up Liverpool on away goals.\",\n",
       " \"FC Barcelona\\nIn June 1982, Diego Maradona was signed for a world record fee of £5 million from Boca Juniors. Diego Maradona was signed from Boca Juniors. In the following season, Barcelona won the Copa del Rey, beating Real Madrid. Maradona's time with Barcelona was short-lived. Maradona soon left for Napoli. At the start of the 1984-85 season, Terry Venables was hired as manager. Terry Venables won La Liga with noteworthy displays by German midfielder Bernd Schuster. The next season, Terry Venables took the team to their second European Cup final. The team lost on penalties to Steaua Bucureşti during a dramatic evening in Seville.\",\n",
       " 'FC Barcelona\\nBarcelona is the only European club to have played continental football every season since 1955. Barcelona is one of three clubs to have never been relegated from La Liga. Athletic Bilbao and Real Madrid are the other two clubs to have never been relegated from La Liga. In 2009, Barcelona became the first club in Spain to win the treble consisting of La Liga, Copa del Rey, and the Champions League. In 2009, Barcelona became the first football club ever to win six out of six competitions in a single year. The sextuple treble includes the treble, the Spanish Super Cup, UEFA Super Cup, and FIFA Club World Cup. In the 2014-15 season, Barcelona won another historic treble. Barcelona became the first club in European football to win the treble twice.',\n",
       " 'Jesús Aranguren\\nJess Aranguren had a 13-year professional career. His professional career was solely associated with Athletic Bilbao. Jess Aranguren played in nearly 400 official games with Athletic Bilbao. Jess Aranguren won two Copa del Rey trophies with Athletic Bilbao.']"
      ]
     },
     "execution_count": 37,
     "metadata": {},
     "output_type": "execute_result"
    }
   ],
   "source": [
    "corpus_contents[:5]"
   ]
  },
  {
   "cell_type": "code",
   "execution_count": null,
   "metadata": {},
   "outputs": [],
   "source": []
  }
 ],
 "metadata": {
  "kernelspec": {
   "display_name": "faiss_1.8.0_new_env",
   "language": "python",
   "name": "python3"
  },
  "language_info": {
   "codemirror_mode": {
    "name": "ipython",
    "version": 3
   },
   "file_extension": ".py",
   "mimetype": "text/x-python",
   "name": "python",
   "nbconvert_exporter": "python",
   "pygments_lexer": "ipython3",
   "version": "3.10.15"
  }
 },
 "nbformat": 4,
 "nbformat_minor": 2
}
